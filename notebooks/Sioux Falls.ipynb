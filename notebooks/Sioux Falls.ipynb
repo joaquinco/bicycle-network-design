{
 "cells": [
  {
   "cell_type": "markdown",
   "id": "884ba53b",
   "metadata": {},
   "source": [
    "# Sioux Falls"
   ]
  },
  {
   "cell_type": "code",
   "execution_count": 1,
   "id": "74aa6638",
   "metadata": {},
   "outputs": [],
   "source": [
    "import os\n",
    "from pprint import pp\n",
    "import pandas as pd\n",
    "\n",
    "import bcnetwork as bc"
   ]
  },
  {
   "cell_type": "markdown",
   "id": "cfd4b38a",
   "metadata": {},
   "source": [
    "## Loading graph"
   ]
  },
  {
   "cell_type": "code",
   "execution_count": 2,
   "id": "df358037",
   "metadata": {},
   "outputs": [],
   "source": [
    "data_dir = '../instances/sioux-falls/'\n",
    "nodes_file = os.path.join(data_dir, 'nodes.csv')\n",
    "arcs_file = os.path.join(data_dir, 'arcs.csv')\n",
    "odpairs_file = os.path.join(data_dir, 'origin_destination.csv')"
   ]
  },
  {
   "cell_type": "code",
   "execution_count": null,
   "id": "a57dfdac",
   "metadata": {},
   "outputs": [],
   "source": []
  },
  {
   "cell_type": "code",
   "execution_count": 3,
   "id": "37c12e2c",
   "metadata": {},
   "outputs": [
    {
     "ename": "NameError",
     "evalue": "name 'model' is not defined",
     "output_type": "error",
     "traceback": [
      "\u001b[0;31m---------------------------------------------------------------------------\u001b[0m",
      "\u001b[0;31mNameError\u001b[0m                                 Traceback (most recent call last)",
      "\u001b[0;32m/tmp/ipykernel_18466/1404385983.py\u001b[0m in \u001b[0;36m<module>\u001b[0;34m\u001b[0m\n\u001b[0;32m----> 1\u001b[0;31m \u001b[0mbc\u001b[0m\u001b[0;34m.\u001b[0m\u001b[0mdraw\u001b[0m\u001b[0;34m.\u001b[0m\u001b[0mdraw_graph\u001b[0m\u001b[0;34m(\u001b[0m\u001b[0mmodel\u001b[0m\u001b[0;34m.\u001b[0m\u001b[0mgraph\u001b[0m\u001b[0;34m)\u001b[0m\u001b[0;34m\u001b[0m\u001b[0;34m\u001b[0m\u001b[0m\n\u001b[0m",
      "\u001b[0;31mNameError\u001b[0m: name 'model' is not defined"
     ]
    }
   ],
   "source": [
    "bc.draw.draw_graph(model.graph)"
   ]
  },
  {
   "cell_type": "markdown",
   "id": "49471717",
   "metadata": {},
   "source": [
    "## Solve Sioux-Falls instance\n",
    "\n",
    "The \"official\" instance consist of 22 pares origen-destino, tomado del paper \"Bike network design problem with a path-size logit-based equilibrium constraint: Formulation, global optimization, and matheuristic\".\n",
    "\n",
    "The rest of the parameters that have to be set are:\n",
    "- amount of infrastructures considering the base infrastructure.\n",
    "- breakpoints: pairs of (improvement percentage, demand transfer percentage)\n",
    "- budget: absolute amount or percentage of total buildable."
   ]
  },
  {
   "cell_type": "code",
   "execution_count": null,
   "id": "d33acc8d",
   "metadata": {},
   "outputs": [],
   "source": [
    "infrastructure_count = 4\n",
    "breakpoints = [\n",
    "    (0.95, 0.1),\n",
    "    (0.87, 0.2),\n",
    "    (0.85, 0.31),\n",
    "    (0.80, 1.0),\n",
    "]\n",
    "budget_factor = 0.2\n",
    "\n",
    "model = bc.model.Model(\n",
    "    name='Sioux-Falls',\n",
    "    nodes_file=nodes_file,\n",
    "    arcs_file=arcs_file,\n",
    "    odpairs_file=odpairs_file,\n",
    "    infrastructure_count=infrastructure_count,\n",
    "    breakpoints=breakpoints,\n",
    "    budget_factor=budget_factor,\n",
    "    project_root='..',\n",
    ")"
   ]
  },
  {
   "cell_type": "code",
   "execution_count": null,
   "id": "8ba519de",
   "metadata": {
    "scrolled": true
   },
   "outputs": [],
   "source": [
    "solution = model.solve()"
   ]
  },
  {
   "cell_type": "code",
   "execution_count": null,
   "id": "0b6d0012",
   "metadata": {},
   "outputs": [],
   "source": [
    "solution.data"
   ]
  },
  {
   "cell_type": "code",
   "execution_count": null,
   "id": "d3f22385",
   "metadata": {},
   "outputs": [],
   "source": []
  },
  {
   "cell_type": "code",
   "execution_count": null,
   "id": "d24b3582",
   "metadata": {},
   "outputs": [],
   "source": []
  },
  {
   "cell_type": "code",
   "execution_count": null,
   "id": "05494d86",
   "metadata": {},
   "outputs": [],
   "source": []
  },
  {
   "cell_type": "code",
   "execution_count": null,
   "id": "f0122dec",
   "metadata": {},
   "outputs": [],
   "source": []
  },
  {
   "cell_type": "code",
   "execution_count": null,
   "id": "382ea6f8",
   "metadata": {},
   "outputs": [],
   "source": []
  },
  {
   "cell_type": "code",
   "execution_count": null,
   "id": "d994fc1d",
   "metadata": {},
   "outputs": [],
   "source": []
  },
  {
   "cell_type": "code",
   "execution_count": null,
   "id": "b7d8196d",
   "metadata": {},
   "outputs": [],
   "source": []
  },
  {
   "cell_type": "code",
   "execution_count": null,
   "id": "bbb0512e",
   "metadata": {},
   "outputs": [],
   "source": []
  },
  {
   "cell_type": "code",
   "execution_count": null,
   "id": "102310f1",
   "metadata": {},
   "outputs": [],
   "source": []
  }
 ],
 "metadata": {
  "kernelspec": {
   "display_name": "Python 3 (ipykernel)",
   "language": "python",
   "name": "python3"
  },
  "language_info": {
   "codemirror_mode": {
    "name": "ipython",
    "version": 3
   },
   "file_extension": ".py",
   "mimetype": "text/x-python",
   "name": "python",
   "nbconvert_exporter": "python",
   "pygments_lexer": "ipython3",
   "version": "3.9.6"
  }
 },
 "nbformat": 4,
 "nbformat_minor": 5
}
