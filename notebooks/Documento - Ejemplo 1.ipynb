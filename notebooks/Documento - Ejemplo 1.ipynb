{
 "cells": [
  {
   "cell_type": "markdown",
   "id": "f6fa57a4",
   "metadata": {},
   "source": [
    "Ejemplo 1\n",
    "=======\n",
    "\n",
    "Ejemplo que muestra con una instancia simple la correctitud del modelo."
   ]
  },
  {
   "cell_type": "code",
   "execution_count": 1,
   "id": "15b1ec63",
   "metadata": {},
   "outputs": [],
   "source": [
    "import contextlib\n",
    "import functools\n",
    "import matplotlib.pyplot as plt\n",
    "import os\n",
    "\n",
    "import networkx as nx\n",
    "\n",
    "import bcnetwork as bc"
   ]
  },
  {
   "cell_type": "markdown",
   "id": "e74ffacb",
   "metadata": {},
   "source": [
    "## Especificacion de los datos\n",
    "\n",
    "La instancia esta compuesta por un grafo y dos pares origen destino. Lo que se quiere demostrar es cómo construiyendo infrastructuras en arcos donde no pasan, a prior, los caminos más cortos, se llega a la solución óptima."
   ]
  },
  {
   "cell_type": "code",
   "execution_count": 12,
   "id": "839f265e",
   "metadata": {},
   "outputs": [],
   "source": [
    "nodes = [\n",
    "    # node, x, y\n",
    "    ('1', 0, 4),\n",
    "    ('2', 0, 0),\n",
    "    ('3', 2, 2),\n",
    "    ('4', 4, 2),\n",
    "    ('5', 6, 4),\n",
    "    ('6', 6, 0),\n",
    "]\n",
    "arcs = [\n",
    "    # from, to, weight\n",
    "    ('1', '3', 2),\n",
    "    ('1', '5', 6),\n",
    "    ('2', '3', 2),\n",
    "    ('2', '6', 6),\n",
    "    ('3', '4', 3),\n",
    "    ('4', '5', 2),\n",
    "    ('4', '6', 2),\n",
    "]\n",
    "\n",
    "graph = nx.DiGraph()\n",
    "\n",
    "for n, x, y in nodes:\n",
    "    graph.add_node(n, pos=(x, y))\n",
    "\n",
    "for n1, n2, weight in arcs:\n",
    "    # Set user_cost and construction_cost for infrastructure 1,\n",
    "    # Values for base infrastructre are set automatically\n",
    "    graph.add_edge(\n",
    "        n1, n2,\n",
    "        user_cost=weight,\n",
    "        construction_cost=weight,\n",
    "        user_cost_1=weight / 2,\n",
    "    )\n",
    "\n",
    "odpairs = [\n",
    "    # origin, destination, demand\n",
    "    ('1', '5', 3),\n",
    "    ('2', '6', 3)\n",
    "]\n",
    "\n",
    "breakpoints = [\n",
    "    # P, Q\n",
    "    (0, 1), # There's 0 transfer if user cost is no lesser than 1 * best_base_path_cost\n",
    "    (1, 0.667),\n",
    "]\n",
    "\n",
    "budget = 11\n",
    "# Two infrastructures:\n",
    "# base and the next level of improvement\n",
    "infrastructure_count = 2"
   ]
  },
  {
   "cell_type": "code",
   "execution_count": 13,
   "id": "2f9ec16a",
   "metadata": {},
   "outputs": [],
   "source": [
    "# Creates the model object\n",
    "model = bc.model.Model(\n",
    "    name='Ejemplo 1',\n",
    "    graph=graph,\n",
    "    infrastructure_count=infrastructure_count,\n",
    "    budget=budget,\n",
    "    odpairs=odpairs,\n",
    "    breakpoints=breakpoints,\n",
    ")\n",
    "solution = model.solve(solver='glpsol')"
   ]
  },
  {
   "cell_type": "markdown",
   "id": "a361c31c",
   "metadata": {},
   "source": [
    "## Flujos"
   ]
  },
  {
   "cell_type": "code",
   "execution_count": 14,
   "id": "ced5f8d7",
   "metadata": {},
   "outputs": [],
   "source": [
    "fig_dir = '../thesis/resources'\n",
    "\n",
    "get_fig_dir = functools.partial(os.path.join, fig_dir)\n",
    "\n",
    "figsize = (5, 3)\n",
    "draw = functools.partial(\n",
    "    bc.draw.draw, model, figsize=figsize, odpair_scale_factor=3, odpair_separate=True)\n",
    "draw_sol = functools.partial(draw, solution=solution)\n",
    "\n",
    "\n",
    "@contextlib.contextmanager\n",
    "def save_fig(file_name, dpi=None, **fig_kw):\n",
    "    fig, ax = plt.subplots(**fig_kw)\n",
    "    yield ax\n",
    "    fig.savefig(file_name, dpi=dpi)"
   ]
  },
  {
   "cell_type": "code",
   "execution_count": 15,
   "id": "745d9d41",
   "metadata": {},
   "outputs": [
    {
     "data": {
      "image/png": "[encoded data removed]",
      "text/plain": [
       "<Figure size 360x216 with 1 Axes>"
      ]
     },
     "metadata": {},
     "output_type": "display_data"
    }
   ],
   "source": [
    "with save_fig(get_fig_dir('example_1_base.png'), figsize=figsize) as ax:\n",
    "    draw(with_labels=True, edge_weight_label='user_cost', ax=ax)"
   ]
  },
  {
   "cell_type": "markdown",
   "id": "d08f0fec",
   "metadata": {},
   "source": [
    "## Infrastructuras"
   ]
  },
  {
   "cell_type": "code",
   "execution_count": 16,
   "id": "aeb4e029",
   "metadata": {},
   "outputs": [
    {
     "data": {
      "image/png": "[encoded data removed]",
      "text/plain": [
       "<Figure size 360x216 with 1 Axes>"
      ]
     },
     "metadata": {},
     "output_type": "display_data"
    },
    {
     "data": {
      "image/png": "[encoded data removed]",
      "text/plain": [
       "<Figure size 360x216 with 1 Axes>"
      ]
     },
     "metadata": {},
     "output_type": "display_data"
    }
   ],
   "source": [
    "with save_fig(get_fig_dir('example_1_infras.png')) as ax:\n",
    "    draw_sol(flows=False, infrastructures=True, ax=ax)\n",
    "with save_fig(get_fig_dir('example_1_flows.png')) as ax:\n",
    "    draw_sol(flows=True, infrastructures=False, ax=ax)"
   ]
  },
  {
   "cell_type": "code",
   "execution_count": 17,
   "id": "5bc639f0",
   "metadata": {},
   "outputs": [
    {
     "data": {
      "text/plain": [
       "{'shortest_paths': [{'origin': '1',\n",
       "   'destination': '5',\n",
       "   'shortest_path_cost': 3.5},\n",
       "  {'origin': '2', 'destination': '6', 'shortest_path_cost': 3.5}],\n",
       " 'flows': [{'origin': '1',\n",
       "   'destination': '5',\n",
       "   'arc': 'arc_1_3',\n",
       "   'infrastructure': 1,\n",
       "   'flow': 1},\n",
       "  {'origin': '1',\n",
       "   'destination': '5',\n",
       "   'arc': 'arc_3_4',\n",
       "   'infrastructure': 1,\n",
       "   'flow': 1},\n",
       "  {'origin': '1',\n",
       "   'destination': '5',\n",
       "   'arc': 'arc_4_5',\n",
       "   'infrastructure': 1,\n",
       "   'flow': 1},\n",
       "  {'origin': '2',\n",
       "   'destination': '6',\n",
       "   'arc': 'arc_2_3',\n",
       "   'infrastructure': 1,\n",
       "   'flow': 1},\n",
       "  {'origin': '2',\n",
       "   'destination': '6',\n",
       "   'arc': 'arc_3_4',\n",
       "   'infrastructure': 1,\n",
       "   'flow': 1},\n",
       "  {'origin': '2',\n",
       "   'destination': '6',\n",
       "   'arc': 'arc_4_6',\n",
       "   'infrastructure': 1,\n",
       "   'flow': 1}],\n",
       " 'infrastructures': [{'arc': 'arc_1_3',\n",
       "   'infrastructure': '1',\n",
       "   'construction_cost': 2.0},\n",
       "  {'arc': 'arc_2_3', 'infrastructure': '1', 'construction_cost': 2.0},\n",
       "  {'arc': 'arc_3_4', 'infrastructure': '1', 'construction_cost': 3.0},\n",
       "  {'arc': 'arc_4_5', 'infrastructure': '1', 'construction_cost': 2.0},\n",
       "  {'arc': 'arc_4_6', 'infrastructure': '1', 'construction_cost': 2.0}],\n",
       " 'demand_transfered': [{'origin': '1',\n",
       "   'destination': '5',\n",
       "   'demand_transfered': 3,\n",
       "   'z': 1,\n",
       "   'j_value': 1},\n",
       "  {'origin': '2',\n",
       "   'destination': '6',\n",
       "   'demand_transfered': 3,\n",
       "   'z': 1,\n",
       "   'j_value': 1}],\n",
       " 'total_demand_transfered': [{'total_demand_transfered': 6}],\n",
       " 'budget_used': [{'budget_used': 11}]}"
      ]
     },
     "execution_count": 17,
     "metadata": {},
     "output_type": "execute_result"
    }
   ],
   "source": [
    "solution.data"
   ]
  },
  {
   "cell_type": "code",
   "execution_count": null,
   "id": "8f36bf0b",
   "metadata": {},
   "outputs": [],
   "source": []
  }
 ],
 "metadata": {
  "kernelspec": {
   "display_name": "Python 3 (ipykernel)",
   "language": "python",
   "name": "python3"
  },
  "language_info": {
   "codemirror_mode": {
    "name": "ipython",
    "version": 3
   },
   "file_extension": ".py",
   "mimetype": "text/x-python",
   "name": "python",
   "nbconvert_exporter": "python",
   "pygments_lexer": "ipython3",
   "version": "3.9.6"
  }
 },
 "nbformat": 4,
 "nbformat_minor": 5
}
